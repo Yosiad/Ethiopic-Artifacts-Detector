{
 "cells": [
  {
   "cell_type": "code",
   "execution_count": 1,
   "metadata": {},
   "outputs": [
    {
     "name": "stderr",
     "output_type": "stream",
     "text": [
      "/home/geleta/.local/lib/python3.10/site-packages/matplotlib/projections/__init__.py:63: UserWarning: Unable to import Axes3D. This may be due to multiple versions of Matplotlib being installed (e.g. as a system package and as a pip package). As a result, the 3D projection is not available.\n",
      "  warnings.warn(\"Unable to import Axes3D. This may be due to multiple versions of \"\n"
     ]
    }
   ],
   "source": [
    "# %pip install ultralytics\n",
    "\n",
    "import os\n",
    "\n",
    "from ultralytics import YOLO"
   ]
  },
  {
   "cell_type": "code",
   "execution_count": 2,
   "metadata": {},
   "outputs": [],
   "source": [
    "model = YOLO('./best.pt')"
   ]
  },
  {
   "cell_type": "code",
   "execution_count": 12,
   "metadata": {},
   "outputs": [
    {
     "name": "stdout",
     "output_type": "stream",
     "text": [
      "\n",
      "image 1/1 /home/geleta/Desktop/EthiopicArtifactDetector/Predict-20231228T085957Z-001/Predict/jebtest.jpeg: 448x640 1 Jebena, 253.3ms\n",
      "Speed: 7.0ms preprocess, 253.3ms inference, 2.1ms postprocess per image at shape (1, 3, 448, 640)\n",
      "hey this is the printed part\n",
      "ultralytics.engine.results.Boxes object with attributes:\n",
      "\n",
      "cls: tensor([1.])\n",
      "conf: tensor([0.9887])\n",
      "data: tensor([[ 25.6086,   5.2004, 138.5080, 157.5104,   0.9887,   1.0000]])\n",
      "id: None\n",
      "is_track: False\n",
      "orig_shape: (183, 275)\n",
      "shape: torch.Size([1, 6])\n",
      "xywh: tensor([[ 82.0583,  81.3554, 112.8994, 152.3100]])\n",
      "xywhn: tensor([[0.2984, 0.4446, 0.4105, 0.8323]])\n",
      "xyxy: tensor([[ 25.6086,   5.2004, 138.5080, 157.5104]])\n",
      "xyxyn: tensor([[0.0931, 0.0284, 0.5037, 0.8607]])\n"
     ]
    }
   ],
   "source": [
    "results = model.predict('./Predict-20231228T085957Z-001/Predict/jebtest.jpeg', conf = 0.25, save_dir = \"./output/\")\n",
    "print(\"hey this is the printed part\")\n",
    "print(results[0].boxes)\n",
    "from PIL import Image, ImageDraw\n",
    "\n",
    "# Load the image\n",
    "image_path = './Predict-20231228T085957Z-001/Predict/jebtest.jpeg'\n",
    "image = Image.open(image_path)\n",
    "classes = {0:\"Sini\", 1:\"Jebena\"}\n",
    "# Draw bounding boxes on the image\n",
    "draw = ImageDraw.Draw(image)\n",
    "\n",
    "for box_info in results[0].boxes:\n",
    "    # Extract necessary information from the tensor\n",
    "    x_min, y_min, x_max, y_max = box_info.xyxy.squeeze().tolist()  # Extract coordinates\n",
    "    class_id = int(box_info.cls.item())  # Extract class ID\n",
    "    confidence = float(box_info.conf.item())  # Extract confidence score\n",
    "\n",
    "    # Define box color and label\n",
    "    box_color = 'red'  # You can change this color as needed\n",
    "    label = f'{classes[class_id]}'\n",
    "\n",
    "    # Draw the bounding box and label\n",
    "    draw.rectangle([(x_min, y_min), (x_max, y_max)], outline=box_color)\n",
    "    draw.text((x_min, y_min), label, fill=box_color)\n",
    "\n",
    "# Save or display the image with bounding boxes\n",
    "image.show()  \n"
   ]
  }
 ],
 "metadata": {
  "kernelspec": {
   "display_name": "Python 3",
   "language": "python",
   "name": "python3"
  },
  "language_info": {
   "codemirror_mode": {
    "name": "ipython",
    "version": 3
   },
   "file_extension": ".py",
   "mimetype": "text/x-python",
   "name": "python",
   "nbconvert_exporter": "python",
   "pygments_lexer": "ipython3",
   "version": "3.10.12"
  }
 },
 "nbformat": 4,
 "nbformat_minor": 2
}
